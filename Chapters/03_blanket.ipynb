{
 "cells": [
  {
   "cell_type": "markdown",
   "id": "a3073433-6df7-49ae-8a89-1bd08c605e7b",
   "metadata": {},
   "source": [
    "# Chapter 3"
   ]
  },
  {
   "cell_type": "markdown",
   "id": "1ca85780-54a7-478f-8df6-16a43e944537",
   "metadata": {
    "tags": []
   },
   "source": [
    "## Markov Blankets\n",
    "- relevance -> Bayesian Networks\n",
    "- existence of generative model (existence defined in a statistical sense)\n",
    "\n",
    "From page 43: \"... a Markov blanket is the set of variables that mediate all (statistical) interactions between a system and its environment.\"\n",
    "\n",
    "#### Resources\n",
    "\n",
    "*Bayesian Networks in Python*\n",
    "\n",
    "https://github.com/ncullen93/pyBN\n",
    "\n",
    "*What does it mean to calculate a Markov Blanket of a node?*\n",
    "\n",
    "https://stackoverflow.com/questions/49038111/how-to-find-markov-blanket-for-a-node\n",
    "\n",
    "-> How does a Markov Blanket of a node relate to Active Inference?\n",
    "\n",
    "\n",
    "*Markov Network library*\n",
    "\n",
    "\"Markov blanket is the neighboring nodes of the given node.\"\n",
    "\n",
    "https://pgmpy.org/models/markovnetwork.html#pgmpy.models.MarkovNetwork.MarkovNetwork.markov_blanket"
   ]
  },
  {
   "cell_type": "code",
   "execution_count": null,
   "id": "5e7aae20-14f3-4ddb-a2d8-8c6509fae10c",
   "metadata": {},
   "outputs": [],
   "source": []
  }
 ],
 "metadata": {
  "kernelspec": {
   "display_name": "dev",
   "language": "python",
   "name": "dev"
  },
  "language_info": {
   "codemirror_mode": {
    "name": "ipython",
    "version": 3
   },
   "file_extension": ".py",
   "mimetype": "text/x-python",
   "name": "python",
   "nbconvert_exporter": "python",
   "pygments_lexer": "ipython3",
   "version": "3.8.13"
  }
 },
 "nbformat": 4,
 "nbformat_minor": 5
}
